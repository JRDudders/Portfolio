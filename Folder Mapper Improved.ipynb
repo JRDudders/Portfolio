{
 "cells": [
  {
   "cell_type": "code",
   "execution_count": null,
   "id": "0309e103",
   "metadata": {},
   "outputs": [],
   "source": [
    "\"\"\"This is an improved version of my previous folder mapping program designed to walk iteratively through a given folder tree and map all files. The goal of this program was to ensure complete data integrity after the movement of a large file structure to a new shared drive. The output of this program is three separate .csv files, one for all files in a given directory that were successfully mapped, one for all files (along with the folder pathway) that failed to map correctly, and a third .csv ranking which folders had the most failed files.\"\"\""
   ]
  },
  {
   "cell_type": "code",
   "execution_count": null,
   "id": "e8c838b8",
   "metadata": {},
   "outputs": [],
   "source": [
    "import os, time, datetime, pandas as pd"
   ]
  },
  {
   "cell_type": "code",
   "execution_count": null,
   "id": "f0e72c53",
   "metadata": {},
   "outputs": [],
   "source": [
    "folder_path = r'C:\\\\'\n",
    "\n",
    "def sizeof_file(num, suffix='B'):\n",
    "    for unit in ['', 'Ki', 'Mi', 'Gi', 'Ti', 'Pi', 'Ei', 'Zi']:\n",
    "        if abs(num) < 1024.0:\n",
    "            return f\"{num:3.1f}{unit}{suffix}\"\n",
    "        num /= 1024.0\n",
    "    return f\"{num:.1f}Yi{suffix}\""
   ]
  },
  {
   "cell_type": "code",
   "execution_count": null,
   "id": "e8cf0e9a",
   "metadata": {},
   "outputs": [],
   "source": [
    "def crawl_folder(inputDir):\n",
    "    exclude = []\n",
    "    rows = []\n",
    "    errors = []\n",
    "    for root, dirs, files in os.walk(inputDir):\n",
    "        dirs[:] = [d for d in dirs if d not in exclude]\n",
    "        for f in files:\n",
    "            try:\n",
    "                fname = os.path.join(root, f)\n",
    "                rows.append([root, f, os.path.splitext(fname)[-1], time.strftime(\"%d-%b-%Y %H:%M:%S\", time.localtime(os.path.getmtime(fname))), sizeof_file(os.path.getsize(fname)), os.path.getsize(fname)])\n",
    "            except:\n",
    "                errors.append([root, f])\n",
    "                print(\"Error on:\", root, f)\n",
    "                continue\n",
    "    \n",
    "    dfGood = pd.DataFrame(rows, columns=[\"Directory\", \"Filename\", \"Extension\", \"Last Modified Date\", \"Size\", \"Size(Bytes)\"])\n",
    "    dfBad = pd.DataFrame(errors, columns=[\"Failed Files Path\", \"File\"])\n",
    "\n",
    "    return dfGood, dfBad\n"
   ]
  },
  {
   "cell_type": "code",
   "execution_count": null,
   "id": "001d4857",
   "metadata": {},
   "outputs": [],
   "source": [
    "starttime = time.time()\n",
    "\n",
    "goodDF, badDF = crawl_folder(folder_path)\n",
    "\n",
    "print(f\"Finished in {time.time()-starttime} seconds\")"
   ]
  },
  {
   "cell_type": "code",
   "execution_count": null,
   "id": "536faf63",
   "metadata": {},
   "outputs": [],
   "source": [
    "fname = folder_path.split('\\\\')[-1]\n",
    "ftime = str(datetime.datetime.now())\n",
    "ftime = ftime.replace(\":\", \"\")\n",
    "\n",
    "goodDF.to_csv(f\"{fname}_Files_Successfully_Mapped_{ftime}.csv\", index=False)\n",
    "badDF.to_csv(f\"{fname}_Files_Failed_to_Map_{ftime}.csv\", index=False)"
   ]
  },
  {
   "cell_type": "code",
   "execution_count": null,
   "id": "9bc93b66",
   "metadata": {},
   "outputs": [],
   "source": [
    "badDF[\"Failed Files Path\"] = badDF[\"Failed Files Path\"].str.replace(folder_path, \"\", regex=False)\n",
    "badDF_grouped = badDF.groupby(\"Failed Files Path\").count().sort_values([\"File\"], ascending=False)\n",
    "badDF_grouped.to_csv(f\"_{fname}_Folders_Failed_to_Map_{ftime}_Ranked.csv\")"
   ]
  },
  {
   "cell_type": "code",
   "execution_count": null,
   "id": "d856d4ed",
   "metadata": {},
   "outputs": [],
   "source": [
    "len(goodDF)"
   ]
  },
  {
   "cell_type": "code",
   "execution_count": null,
   "id": "183de026",
   "metadata": {},
   "outputs": [],
   "source": [
    "len(badDF)"
   ]
  },
  {
   "cell_type": "code",
   "execution_count": null,
   "id": "d059fa7f",
   "metadata": {},
   "outputs": [],
   "source": [
    "len(badDF_grouped)"
   ]
  },
  {
   "cell_type": "code",
   "execution_count": null,
   "id": "697c2037",
   "metadata": {},
   "outputs": [],
   "source": [
    "badDF_grouped"
   ]
  },
  {
   "cell_type": "code",
   "execution_count": null,
   "id": "4eabf177",
   "metadata": {},
   "outputs": [],
   "source": []
  }
 ],
 "metadata": {
  "kernelspec": {
   "display_name": "Python 3",
   "language": "python",
   "name": "python3"
  },
  "language_info": {
   "codemirror_mode": {
    "name": "ipython",
    "version": 3
   },
   "file_extension": ".py",
   "mimetype": "text/x-python",
   "name": "python",
   "nbconvert_exporter": "python",
   "pygments_lexer": "ipython3",
   "version": "3.8.11"
  }
 },
 "nbformat": 4,
 "nbformat_minor": 5
}
